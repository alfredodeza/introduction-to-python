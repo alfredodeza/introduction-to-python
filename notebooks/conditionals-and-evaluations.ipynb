{
 "cells": [
  {
   "cell_type": "markdown",
   "metadata": {},
   "source": [
    "# Conditionals and evaluations\n",
    "\n",
    "To work with logic in Python, you must first understand `if`, `else`, and `elif`. There are other conditional statements in Python however. This notebook will introduce you to the basic conditionals that will allow you to do the most amount of logic work.\n",
    "\n",
    "Evaluations go hand in hand with conditional statements because it is how Python decides to go into the next instruction or skip it."
   ]
  },
  {
   "cell_type": "markdown",
   "metadata": {},
   "source": [
    "## `if` conditions and evaluations"
   ]
  },
  {
   "cell_type": "code",
   "execution_count": null,
   "metadata": {},
   "outputs": [],
   "source": [
    "# all conditionals evaluate the result of the condition (expression)\n",
    "condition = True \n",
    "if condition:\n",
    "    print(\"The condition was met\")\n"
   ]
  },
  {
   "cell_type": "code",
   "execution_count": null,
   "metadata": {},
   "outputs": [],
   "source": [
    "# if the condition changes to false, then it get skipped\n",
    "condition = False\n",
    "if condition:\n",
    "    print(\"Was the condition met?\")\n"
   ]
  },
  {
   "cell_type": "code",
   "execution_count": 3,
   "metadata": {},
   "outputs": [
    {
     "name": "stdout",
     "output_type": "stream",
     "text": [
      "we have some invites!\n"
     ]
    }
   ],
   "source": [
    "# some data structures are truthy: false when empty, but true when they contain items\n",
    "groceries = []\n",
    "if groceries:\n",
    "    print(\"we have some groceries!\")\n",
    "\n",
    "invites = [\"John\", \"George\"]\n",
    "if invites:\n",
    "    print(\"we have some invites!\")"
   ]
  },
  {
   "cell_type": "code",
   "execution_count": 5,
   "metadata": {},
   "outputs": [
    {
     "name": "stdout",
     "output_type": "stream",
     "text": [
      "we have parents!\n"
     ]
    }
   ],
   "source": [
    "# other types like integers (0, and any positive integer) are truthy\n",
    "properties = 0\n",
    "if properties:\n",
    "    print(\"We have properties!\")\n",
    "\n",
    "parents = 2\n",
    "if parents:\n",
    "    print(\"we have parents!\")"
   ]
  },
  {
   "cell_type": "code",
   "execution_count": 10,
   "metadata": {},
   "outputs": [
    {
     "name": "stdout",
     "output_type": "stream",
     "text": [
      "no properties!\n",
      "there is more than 1 parent\n"
     ]
    }
   ],
   "source": [
    "# operators are supported \n",
    "if properties == 0:\n",
    "     print(\"no properties!\")\n",
    "\n",
    "if parents > 1:\n",
    "    print(\"there is more than 1 parent\")"
   ]
  },
  {
   "cell_type": "markdown",
   "metadata": {},
   "source": [
    "## `else` conditions\n",
    "When an `if` condition is not met, you can use an `else` condition (in that order!). Rule of thumb: don't try to compound several `if` and `else` conditions and keep them to a minimum, it otherwise makes code harder to read!"
   ]
  },
  {
   "cell_type": "code",
   "execution_count": 6,
   "metadata": {},
   "outputs": [
    {
     "name": "stdout",
     "output_type": "stream",
     "text": [
      "We don't have any properties\n"
     ]
    }
   ],
   "source": [
    "if properties:\n",
    "    print(\"We have properties\")\n",
    "else:\n",
    "    print(\"We don't have any properties\")"
   ]
  },
  {
   "cell_type": "markdown",
   "metadata": {},
   "source": [
    "## `elif` conditions\n",
    "This is useful when we want to add an `else` statement that needs to be mapped to a condition as well"
   ]
  },
  {
   "cell_type": "code",
   "execution_count": 7,
   "metadata": {},
   "outputs": [
    {
     "name": "stdout",
     "output_type": "stream",
     "text": [
      "We don't have any properties, but we have parents\n"
     ]
    }
   ],
   "source": [
    "if properties:\n",
    "    print(\"We have properties\")\n",
    "# evaluate if parents is valid\n",
    "elif parents:\n",
    "    print(\"We don't have any properties, but we have parents\")"
   ]
  },
  {
   "cell_type": "markdown",
   "metadata": {},
   "source": [
    "## Negative conditions\n",
    "\n",
    "By default, Python evaluates statements that are `True`. To represent a negative statement, you must add a `not` keyword. Watch out for statement that use `not` as it can make it harder to read!"
   ]
  },
  {
   "cell_type": "code",
   "execution_count": 8,
   "metadata": {},
   "outputs": [
    {
     "name": "stdout",
     "output_type": "stream",
     "text": [
      "Didn't get a name!\n"
     ]
    }
   ],
   "source": [
    "name = None\n",
    "\n",
    "if not name:\n",
    "    print(\"Didn't get a name!\")"
   ]
  },
  {
   "cell_type": "code",
   "execution_count": 9,
   "metadata": {},
   "outputs": [
    {
     "name": "stdout",
     "output_type": "stream",
     "text": [
      "No name!\n"
     ]
    }
   ],
   "source": [
    "# same is possible with elif conditions\n",
    "last_name = None\n",
    "\n",
    "if not name:\n",
    "    print(\"No name!\")\n",
    "elif not last_name:\n",
    "    print(\"No last name either!\")"
   ]
  },
  {
   "cell_type": "markdown",
   "metadata": {},
   "source": [
    "## Compounding conditions with `and`\n",
    "\n",
    "When multiple conditions must be met you can use `and` as well."
   ]
  },
  {
   "cell_type": "code",
   "execution_count": 11,
   "metadata": {},
   "outputs": [
    {
     "name": "stdout",
     "output_type": "stream",
     "text": [
      "This person is married\n"
     ]
    }
   ],
   "source": [
    "has_kids = True\n",
    "married = True\n",
    "\n",
    "if has_kids and married:\n",
    "    print(\"This person is married and has kids\")"
   ]
  },
  {
   "cell_type": "code",
   "execution_count": 13,
   "metadata": {},
   "outputs": [],
   "source": [
    "# not can be used as well but can get harder to read\n",
    "\n",
    "likes_books = False\n",
    "is_logged_in = False\n",
    "\n",
    "if not likes_books and not is_logged_in:\n",
    "    print(\"User not logged in!\")\n"
   ]
  }
 ],
 "metadata": {
  "kernelspec": {
   "display_name": "Python 3.8.9 64-bit",
   "language": "python",
   "name": "python3"
  },
  "language_info": {
   "codemirror_mode": {
    "name": "ipython",
    "version": 3
   },
   "file_extension": ".py",
   "mimetype": "text/x-python",
   "name": "python",
   "nbconvert_exporter": "python",
   "pygments_lexer": "ipython3",
   "version": "3.8.9"
  },
  "orig_nbformat": 4,
  "vscode": {
   "interpreter": {
    "hash": "31f2aee4e71d21fbe5cf8b01ff0e069b9275f58929596ceb00d14d90e3e16cd6"
   }
  }
 },
 "nbformat": 4,
 "nbformat_minor": 2
}
