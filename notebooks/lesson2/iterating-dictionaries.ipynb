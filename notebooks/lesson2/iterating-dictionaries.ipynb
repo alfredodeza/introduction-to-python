{
 "cells": [
  {
   "cell_type": "markdown",
   "metadata": {},
   "source": [
    "## Learn how to create dictionaries\n",
    "\n",
    "Seasoned software engineers don't think much about creating dictionaries: they might need some existing data, empty dictionaries, or generate a dictionary from a list. Knowing how to create each variation will make you a more effective engineer!\n"
   ]
  },
  {
   "cell_type": "code",
   "execution_count": 2,
   "metadata": {},
   "outputs": [
    {
     "data": {
      "text/plain": [
       "{}"
      ]
     },
     "execution_count": 2,
     "metadata": {},
     "output_type": "execute_result"
    }
   ],
   "source": [
    "# with curly brackets\n",
    "contact_information = {}\n",
    "contact_information"
   ]
  },
  {
   "cell_type": "code",
   "execution_count": 3,
   "metadata": {},
   "outputs": [
    {
     "data": {
      "text/plain": [
       "{'name': 'Alfredo', 'lastname': 'Deza'}"
      ]
     },
     "execution_count": 3,
     "metadata": {},
     "output_type": "execute_result"
    }
   ],
   "source": [
    "# with curly brackets and pre-seeded data\n",
    "contact_information = {\"name\": \"Alfredo\", \"lastname\": \"Deza\"}\n",
    "contact_information"
   ]
  },
  {
   "cell_type": "code",
   "execution_count": 5,
   "metadata": {},
   "outputs": [
    {
     "data": {
      "text/plain": [
       "{}"
      ]
     },
     "execution_count": 5,
     "metadata": {},
     "output_type": "execute_result"
    }
   ],
   "source": [
    "# with the dict() built-in\n",
    "contact_information = dict()\n",
    "contact_information"
   ]
  },
  {
   "cell_type": "code",
   "execution_count": 6,
   "metadata": {},
   "outputs": [
    {
     "data": {
      "text/plain": [
       "{'name': 'alfredo', 'lastname': 'deza'}"
      ]
     },
     "execution_count": 6,
     "metadata": {},
     "output_type": "execute_result"
    }
   ],
   "source": [
    "# with dict() and a list of tuple pairs\n",
    "data = [(\"name\", \"alfredo\"), (\"lastname\", \"deza\")]\n",
    "dict(data)"
   ]
  },
  {
   "cell_type": "code",
   "execution_count": 7,
   "metadata": {},
   "outputs": [
    {
     "data": {
      "text/plain": [
       "{'first': 'alfredo', 'lastname': 'deza'}"
      ]
     },
     "execution_count": 7,
     "metadata": {},
     "output_type": "execute_result"
    }
   ],
   "source": [
    "# with dict() and keyword arguments\n",
    "dict(first=\"alfredo\", lastname=\"deza\")"
   ]
  },
  {
   "cell_type": "markdown",
   "metadata": {},
   "source": [
    "## Looping over dictionaries\n",
    "\n",
    "Depending on what data you need from a dictionary, looping can be done in several different ways to extract data. You may want to:\n",
    "\n",
    "1. Retrieve only keys\n",
    "1. Retrieve only values\n",
    "1. Retrieve both keys and values\n",
    "\n",
    "This section covers the three different ways to extract data which you can pair with other data retrieval techniques in the previous lesson"
   ]
  },
  {
   "cell_type": "code",
   "execution_count": 1,
   "metadata": {},
   "outputs": [],
   "source": [
    "contact_information = {\n",
    "    \"name\": \"Alfredo\", \n",
    "    \"lastname\": \"Deza\", \n",
    "    \"age\": 49,\n",
    "    \"height\": 1.90,\n",
    "}"
   ]
  },
  {
   "cell_type": "code",
   "execution_count": 2,
   "metadata": {},
   "outputs": [
    {
     "name": "stdout",
     "output_type": "stream",
     "text": [
      "name\n",
      "lastname\n",
      "age\n",
      "height\n"
     ]
    }
   ],
   "source": [
    "# Retrieve only keys by default or explicitly\n",
    "#for key in contact_information:\n",
    "#    print(key)\n",
    "\n",
    "# explicit\n",
    "for key in contact_information.keys():\n",
    "    print(key)"
   ]
  },
  {
   "cell_type": "code",
   "execution_count": 3,
   "metadata": {},
   "outputs": [
    {
     "name": "stdout",
     "output_type": "stream",
     "text": [
      "Alfredo\n",
      "Deza\n",
      "49\n",
      "1.9\n"
     ]
    }
   ],
   "source": [
    "# Retrieve only values\n",
    "\n",
    "for value in contact_information.values():\n",
    "    print(value)"
   ]
  },
  {
   "cell_type": "code",
   "execution_count": 4,
   "metadata": {},
   "outputs": [
    {
     "name": "stdout",
     "output_type": "stream",
     "text": [
      "name --> Alfredo\n",
      "lastname --> Deza\n",
      "age --> 49\n",
      "height --> 1.9\n"
     ]
    },
    {
     "data": {
      "text/plain": [
       "dict_items([('name', 'Alfredo'), ('lastname', 'Deza'), ('age', 49), ('height', 1.9)])"
      ]
     },
     "execution_count": 4,
     "metadata": {},
     "output_type": "execute_result"
    }
   ],
   "source": [
    "# Retrieve both keys and values\n",
    "\n",
    "for key, value in contact_information.items():\n",
    "    print(f\"{key} --> {value}\")\n",
    "\n",
    "contact_information.items()"
   ]
  }
 ],
 "metadata": {
  "interpreter": {
   "hash": "577b08f524cf01a99e9a6b655c0c48792621c01acb5f33cb5647fbc95a4e54a0"
  },
  "kernelspec": {
   "display_name": "Python 3.10.1 ('tmp')",
   "language": "python",
   "name": "python3"
  },
  "language_info": {
   "codemirror_mode": {
    "name": "ipython",
    "version": 3
   },
   "file_extension": ".py",
   "mimetype": "text/x-python",
   "name": "python",
   "nbconvert_exporter": "python",
   "pygments_lexer": "ipython3",
   "version": "3.10.1"
  },
  "orig_nbformat": 4
 },
 "nbformat": 4,
 "nbformat_minor": 2
}
