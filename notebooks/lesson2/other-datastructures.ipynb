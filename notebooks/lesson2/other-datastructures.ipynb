{
  "cells": [
    {
      "cell_type": "markdown",
      "metadata": {
        "id": "g58N8MaT4GXX"
      },
      "source": [
        "Use all the new skills you've learned for iterating over data structures like dictionaries and lists to practice in this notebook."
      ]
    },
    {
      "cell_type": "markdown",
      "metadata": {
        "id": "H4J3RLKvHwux"
      },
      "source": [
        "# Data structures\n",
        "The trick is that it is all about state!"
      ]
    },
    {
      "cell_type": "markdown",
      "metadata": {
        "id": "d557O7tLIRgT"
      },
      "source": [
        "## Lists\n",
        "Lists are easy to encounter and easy to abuse. Lists hold individual items, keeping a specific order. To access them, treat the order like an index. The index starts at `0,` and it continues incrementally every time a new item gets added. A loop (sometimes referred to as *\"for loop\"*) is the most common operation you can encounter."
      ]
    },
    {
      "cell_type": "code",
      "execution_count": null,
      "metadata": {
        "colab": {
          "base_uri": "https://localhost:8080/"
        },
        "id": "nNeTAGeeIgTw",
        "outputId": "c73a4123-6593-4212-9949-73543b74332e"
      },
      "outputs": [],
      "source": [
        "directories = ['Documents', 'Music', 'Desktop', 'Downloads', 'Pictures', 'Movies']\n",
        "for directory in directories:\n",
        "  print(directory)"
      ]
    },
    {
      "cell_type": "code",
      "execution_count": null,
      "metadata": {
        "colab": {
          "base_uri": "https://localhost:8080/"
        },
        "id": "a_3KHipCIodd",
        "outputId": "868b1c22-ce7c-46cb-a0dd-c79f9adff3fb"
      },
      "outputs": [],
      "source": [
        "import os\n",
        "for item in os.listdir('sample_data'):\n",
        "  if os.path.isdir(item):\n",
        "    print(\"This is a directory {0}\".format(item))\n",
        "  else:\n",
        "    print(\"This is a file: {0}\".format(item))"
      ]
    },
    {
      "cell_type": "code",
      "execution_count": null,
      "metadata": {
        "colab": {
          "base_uri": "https://localhost:8080/"
        },
        "id": "OD0yU3epI8az",
        "outputId": "5001cde7-d6d2-4083-8f1e-7c4bfc170148"
      },
      "outputs": [],
      "source": [
        "# Looping is easy, but what about state? \n",
        "# here state is captured in a new variable called `important_directories`\n",
        "important_directories = []\n",
        "for item in os.listdir('.'):\n",
        "  if os.path.isdir(item):\n",
        "    important_directories.append(item)\n",
        "print(important_directories)"
      ]
    },
    {
      "cell_type": "code",
      "execution_count": null,
      "metadata": {
        "colab": {
          "base_uri": "https://localhost:8080/"
        },
        "id": "P16CyGO8hCW3",
        "outputId": "1417e0e1-5bb9-4998-ffa5-ccdeff507405"
      },
      "outputs": [],
      "source": [
        "os.listdir('.')"
      ]
    },
    {
      "cell_type": "code",
      "execution_count": null,
      "metadata": {
        "colab": {
          "base_uri": "https://localhost:8080/"
        },
        "id": "l583WJSKJUI1",
        "outputId": "f8ba95cd-82b5-4750-a127-4d836d5c11f3"
      },
      "outputs": [],
      "source": [
        "important_directories = []\n",
        "for item in os.listdir('.'):\n",
        "  if item.startswith('.'):\n",
        "    continue # flow control!\n",
        "  if os.path.isdir(item):\n",
        "    important_directories.append(item)\n",
        "print(important_directories)"
      ]
    },
    {
      "cell_type": "code",
      "execution_count": null,
      "metadata": {
        "colab": {
          "base_uri": "https://localhost:8080/",
          "height": 199
        },
        "id": "r8pAWFJeKK65",
        "outputId": "d43c2966-d9e0-48eb-fa3a-fdd2b4ae9cf6"
      },
      "outputs": [],
      "source": [
        "items = ['first', 'second', 'third', 'foo']\n",
        "#items[-1]\n",
        "url = \"https://colab.research.com/drive/asdfjhasdf/alfredo/oreilly\"\n",
        "\n",
        "parts = url.split('/')\n",
        "#print(parts)\n",
        "# Everything except the first three items\n",
        "#print(parts[3:])\n",
        "#protocol, _, fqdn = parts[:3]\n",
        "#print(\"protocol is: %s\" % protocol)\n",
        "#print(fqdn)\n",
        "#company = parts[-1]\n",
        "#print(company)\n",
        "\n",
        "#print(\"The first item is: {0}\".format(items[0]))\n",
        "\n",
        "#items[1]\n",
        "\n",
        "# you can also 'ask' for a given item:\n",
        "items.index('foo')\n",
        "# watchout for `ValueError` though!\n",
        "#items.index('fifth')"
      ]
    },
    {
      "cell_type": "markdown",
      "metadata": {
        "id": "YYZKBroJK3V7"
      },
      "source": [
        "## Tuples\n",
        "Should be treated as \"read only\" lists, the differences are subtle!"
      ]
    },
    {
      "cell_type": "code",
      "execution_count": null,
      "metadata": {
        "colab": {
          "base_uri": "https://localhost:8080/"
        },
        "id": "lt_3ncfzK_IF",
        "outputId": "e7e19e28-5523-41d3-e755-c4322999a321"
      },
      "outputs": [],
      "source": [
        "ro_items = ('first', 'second', 'third')\n",
        "print(\"first item in the tuple is: %s\" % ro_items.index('first'))\n",
        "print(ro_items[-1])\n",
        "for item in ro_items:\n",
        "    print(item)\n"
      ]
    },
    {
      "cell_type": "code",
      "execution_count": null,
      "metadata": {
        "colab": {
          "base_uri": "https://localhost:8080/",
          "height": 165
        },
        "id": "ETljjCY0LeDP",
        "outputId": "ea1978c6-ee6a-42cf-cc1a-a7830ae7fc40"
      },
      "outputs": [],
      "source": [
        "# expect an error here, just like a list!\n",
        "ro_items[9]"
      ]
    },
    {
      "cell_type": "code",
      "execution_count": null,
      "metadata": {
        "colab": {
          "base_uri": "https://localhost:8080/",
          "height": 165
        },
        "id": "KcGyN6vfLiSb",
        "outputId": "839de21f-9776-47e0-d5e5-736090b0f928"
      },
      "outputs": [],
      "source": [
        "# same with indexes\n",
        "ro_items.index('fifth')"
      ]
    },
    {
      "cell_type": "code",
      "execution_count": null,
      "metadata": {
        "colab": {
          "base_uri": "https://localhost:8080/"
        },
        "id": "Gu6zIvL_LnSC",
        "outputId": "ae64d4c1-5414-4cfd-9828-d72c6d734e4e"
      },
      "outputs": [],
      "source": [
        "# find out what methods are available in a tuple\n",
        "for method in dir(tuple()):\n",
        "  if method.startswith('__'):\n",
        "    continue\n",
        "  print(method)\n"
      ]
    },
    {
      "cell_type": "code",
      "execution_count": null,
      "metadata": {
        "colab": {
          "base_uri": "https://localhost:8080/",
          "height": 165
        },
        "id": "6dVJF3JML6Zt",
        "outputId": "4670e9f7-3dac-4329-da5f-83d30ffde7cc"
      },
      "outputs": [],
      "source": [
        "# tuples are inmmutable\n",
        "ro_items.append('a')"
      ]
    },
    {
      "cell_type": "markdown",
      "metadata": {},
      "source": [
        "## Sets\n",
        "\n",
        "Sets are like lists, they look like dictionaries, but they allow us to keep unique items."
      ]
    },
    {
      "cell_type": "code",
      "execution_count": null,
      "metadata": {},
      "outputs": [],
      "source": [
        "# creating an empty set\n",
        "unique = set()\n",
        "# add items with .add()\n",
        "unique.add(\"one\")\n",
        "unique"
      ]
    },
    {
      "cell_type": "code",
      "execution_count": null,
      "metadata": {},
      "outputs": [],
      "source": [
        "# adding more items works as long as they are unique\n",
        "unique.add(\"one\")\n",
        "unique.add(\"one\")\n",
        "unique.add(\"one\")\n",
        "unique.add(\"two\")\n",
        "print(unique)"
      ]
    },
    {
      "cell_type": "code",
      "execution_count": null,
      "metadata": {},
      "outputs": [],
      "source": [
        "# you can pop items too, like in lists, but it takes no arguments\n",
        "unique.pop()\n",
        "unique"
      ]
    },
    {
      "cell_type": "markdown",
      "metadata": {
        "id": "-ZTQXMB6L_iG"
      },
      "source": [
        "## List Comprehensions\n",
        "So easy to abuse!"
      ]
    },
    {
      "cell_type": "code",
      "execution_count": null,
      "metadata": {
        "colab": {
          "base_uri": "https://localhost:8080/"
        },
        "id": "W2wlw-fvME1Z",
        "outputId": "a5d77650-a961-4620-cb09-8ad668959e55"
      },
      "outputs": [],
      "source": [
        "items = ['a', '1', '23', 'b', '4', 'c', 'd']\n",
        "numeric = []\n",
        "for item in items:\n",
        "  if item.isnumeric():\n",
        "    numeric.append(item)\n",
        "print(numeric)"
      ]
    },
    {
      "cell_type": "code",
      "execution_count": null,
      "metadata": {
        "colab": {
          "base_uri": "https://localhost:8080/"
        },
        "id": "_M8_lIlbMXqb",
        "outputId": "10aa1353-3668-40d8-9c00-6991ca3c6948"
      },
      "outputs": [],
      "source": [
        "# notice the `if` condition at the end, is this more readable? or less?\n",
        "inlined_numeric = [item for item in items if item.isnumeric()]\n",
        "inlined_numeric"
      ]
    },
    {
      "cell_type": "code",
      "execution_count": null,
      "metadata": {
        "colab": {
          "base_uri": "https://localhost:8080/"
        },
        "id": "YIqL91ObX3-t",
        "outputId": "6ffbd02a-2896-4430-a9db-d7b39873c66a"
      },
      "outputs": [],
      "source": [
        "# doubly nested items are usually targetted for list comprehensions\n",
        "items = ['a', '1', '23', 'b', '4', 'c', 'd']\n",
        "nested_items = [items, items]\n",
        "nested_items"
      ]
    },
    {
      "cell_type": "code",
      "execution_count": null,
      "metadata": {
        "colab": {
          "base_uri": "https://localhost:8080/"
        },
        "id": "bDox_MQhYFe7",
        "outputId": "136060e9-05ac-469f-a28e-3ea787f3415d"
      },
      "outputs": [],
      "source": [
        "numeric = []\n",
        "for parent in nested_items:\n",
        "    for item in parent:\n",
        "      if item.isnumeric():\n",
        "        numeric.append(item)\n",
        "numeric"
      ]
    },
    {
      "cell_type": "code",
      "execution_count": null,
      "metadata": {
        "colab": {
          "base_uri": "https://localhost:8080/"
        },
        "id": "VHbKq0Q-YerC",
        "outputId": "aa78cd9b-4f1f-4e03-f827-93d204c3ad6b"
      },
      "outputs": [],
      "source": [
        "# and now with list comprehensions\n",
        "numeric = [item for item in parent for parent in nested_items if item.isnumeric()]\n",
        "numeric"
      ]
    },
    {
      "cell_type": "code",
      "execution_count": null,
      "metadata": {
        "colab": {
          "base_uri": "https://localhost:8080/"
        },
        "id": "Maw6k0oGYqh8",
        "outputId": "6043e0ff-ae27-40cd-bc99-b671f3dd0918"
      },
      "outputs": [],
      "source": [
        "# this can improve readability\n",
        "numeric = [\n",
        "    item for item in parent\n",
        "        for parent in nested_items\n",
        "            if item.isnumeric()\n",
        "]\n",
        "numeric"
      ]
    },
    {
      "cell_type": "markdown",
      "metadata": {
        "id": "jIrg4GTGY0QH"
      },
      "source": [
        "## The awesome dictionary\n",
        "One of my favorite data structures in Python, learning it can yield inmense benefits."
      ]
    },
    {
      "cell_type": "code",
      "execution_count": null,
      "metadata": {
        "colab": {
          "base_uri": "https://localhost:8080/"
        },
        "id": "6KnNOhy2Y-b3",
        "outputId": "4b74c36e-7c40-4a56-d081-068031e38439"
      },
      "outputs": [],
      "source": [
        "# dictionaries are mappings, usually referred to as key/value mappings\n",
        "contacts = {\n",
        "    'alfredo': '+3 678-677-0000',\n",
        "    'noah': '+3 707-777-9191'\n",
        "}\n",
        "contacts"
      ]
    },
    {
      "cell_type": "code",
      "execution_count": null,
      "metadata": {
        "colab": {
          "base_uri": "https://localhost:8080/",
          "height": 36
        },
        "id": "ppPZSljcZE1x",
        "outputId": "99f1a1e0-ecc9-43d5-ce42-505146e6feb2"
      },
      "outputs": [],
      "source": [
        "contacts['noah']"
      ]
    },
    {
      "cell_type": "code",
      "execution_count": null,
      "metadata": {
        "colab": {
          "base_uri": "https://localhost:8080/"
        },
        "id": "dZvickt7ZL5N",
        "outputId": "2e5b2ce7-d461-40d0-df72-e97ba20a57f7"
      },
      "outputs": [],
      "source": [
        "# you can get keys as list-like objects\n",
        "contacts.keys()"
      ]
    },
    {
      "cell_type": "code",
      "execution_count": null,
      "metadata": {
        "colab": {
          "base_uri": "https://localhost:8080/"
        },
        "id": "R6nH4qQFZQCR",
        "outputId": "79ce6e13-70ea-4bce-e480-e3b5d1314a63"
      },
      "outputs": [],
      "source": [
        "# or you can get the values as well\n",
        "contacts.values()"
      ]
    },
    {
      "cell_type": "code",
      "execution_count": null,
      "metadata": {
        "colab": {
          "base_uri": "https://localhost:8080/"
        },
        "id": "LTWp2Uh8ZWE0",
        "outputId": "e02c4175-78f5-409e-cd44-29de7211393e"
      },
      "outputs": [],
      "source": [
        "# looping over dictionaries default to `.keys()` and you can loop over both keys and values\n",
        "for key in contacts:\n",
        "  print(key)\n",
        "for name, phone in contacts.items():\n",
        "  print(\"Key: {0}, Value: {1}\".format(name, phone))\n"
      ]
    },
    {
      "cell_type": "code",
      "execution_count": null,
      "metadata": {
        "colab": {
          "base_uri": "https://localhost:8080/",
          "height": 199
        },
        "id": "nY7D2AOmZszm",
        "outputId": "f01ecefa-c99d-44c7-b144-335c3360fc35"
      },
      "outputs": [],
      "source": [
        "# you should treat dictionaries like a small database, with cheap (and fast!) access\n",
        "contacts['alfredo']\n",
        "contacts['John']"
      ]
    },
    {
      "cell_type": "code",
      "execution_count": null,
      "metadata": {
        "colab": {
          "base_uri": "https://localhost:8080/"
        },
        "id": "YWgps56BZ4oQ",
        "outputId": "3b338cfd-12e1-42ce-aba9-4e9587ded01e"
      },
      "outputs": [],
      "source": [
        "# super nice way to \"fallback\" when things do not exist\n",
        "print(contacts.get('John', \"Peter\"))\n",
        "try:\n",
        "  contacts['John']\n",
        "except KeyError:\n",
        "  print(\"Peter\")"
      ]
    },
    {
      "cell_type": "markdown",
      "metadata": {
        "id": "2OBe9_jraJE7"
      },
      "source": [
        "## Walking the filesystem, inspecting files\n",
        "Python has built-in utilities to walk the filesystem. It is a bit clunky, and creating something useful requires stitching things together to produce good output\n"
      ]
    },
    {
      "cell_type": "code",
      "execution_count": null,
      "metadata": {
        "colab": {
          "base_uri": "https://localhost:8080/"
        },
        "id": "ImGHqPgFauSQ",
        "outputId": "0f53bc8e-0187-4727-c377-1fb0571003c5"
      },
      "outputs": [],
      "source": [
        "import os\n",
        "\n",
        "# yields the 'current' dir, then the directories, and then any files it finds\n",
        "# for each level it traverses\n",
        "for path_info in os.walk('.'):\n",
        "    print(path_info)\n",
        "    break\n"
      ]
    },
    {
      "cell_type": "code",
      "execution_count": null,
      "metadata": {
        "colab": {
          "base_uri": "https://localhost:8080/"
        },
        "id": "d5BOj7QGbIXD",
        "outputId": "0d2b944e-d877-4bb9-894c-c7f519e9cce0"
      },
      "outputs": [],
      "source": [
        "import os\n",
        "from os.path import abspath, join\n",
        "\n",
        "# producing absolute paths, instead of a tuple of three items\n",
        "for top_dir, directories, files in os.walk('.'):\n",
        "    for directory in directories:\n",
        "        print(abspath(join(top_dir, directory)))\n",
        "    for _file in files:\n",
        "        print(abspath(join(top_dir, _file)))\n",
        "    break\n"
      ]
    },
    {
      "cell_type": "code",
      "execution_count": null,
      "metadata": {
        "colab": {
          "base_uri": "https://localhost:8080/"
        },
        "id": "uUbYQtDibWTm",
        "outputId": "cc4e4ba1-ab80-4bea-c487-24bebc98b385"
      },
      "outputs": [],
      "source": [
        "# Now that absolute paths are shown, we can inspect them for file metadata\n",
        "\n",
        "import os\n",
        "from os.path import abspath, join, getsize\n",
        "\n",
        "sizes = {}\n",
        "\n",
        "for top_dir, directories, files in os.walk('.'):\n",
        "    for _file in files:\n",
        "        full_path = abspath(join(top_dir, _file))\n",
        "        size = getsize(full_path)\n",
        "        sizes[full_path] = size\n",
        "        #break\n",
        "\n",
        "sorted_results = sorted(sizes, key=sizes.get, reverse=True)\n",
        "\n",
        "for path in sorted_results[:10]:\n",
        "    print(\"Path: {0}, size: {1}\".format(path, sizes[path]))\n"
      ]
    }
  ],
  "metadata": {
    "colab": {
      "name": "Python-Functions-statements.ipynb",
      "provenance": []
    },
    "kernelspec": {
      "display_name": "Python 3.8.9 64-bit",
      "language": "python",
      "name": "python3"
    },
    "language_info": {
      "codemirror_mode": {
        "name": "ipython",
        "version": 3
      },
      "file_extension": ".py",
      "mimetype": "text/x-python",
      "name": "python",
      "nbconvert_exporter": "python",
      "pygments_lexer": "ipython3",
      "version": "3.8.9"
    },
    "vscode": {
      "interpreter": {
        "hash": "31f2aee4e71d21fbe5cf8b01ff0e069b9275f58929596ceb00d14d90e3e16cd6"
      }
    }
  },
  "nbformat": 4,
  "nbformat_minor": 2
}
