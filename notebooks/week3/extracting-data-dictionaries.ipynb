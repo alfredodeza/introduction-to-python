{
 "cells": [
  {
   "cell_type": "markdown",
   "metadata": {},
   "source": [
    "## Retrieving data\n",
    "\n",
    "The most common problem with retrieving data in dictionaries is that you might get a `KeyError` if you are trying to retrieve values from a key that doesn't exist. \n",
    "\n",
    "This lesson covers three ways you can retrieve data from dictionaries without getting into an unhandled exception. Note that you should only implement retrieving values by ignoring the exception if you are sure there is no need to report on a missing key."
   ]
  },
  {
   "cell_type": "code",
   "execution_count": null,
   "metadata": {},
   "outputs": [],
   "source": [
    "contact_information = {}"
   ]
  },
  {
   "cell_type": "code",
   "execution_count": null,
   "metadata": {},
   "outputs": [],
   "source": [
    "# normal retrieval (and possible exception)\n",
    "contact_information[\"height\"]"
   ]
  },
  {
   "cell_type": "code",
   "execution_count": null,
   "metadata": {},
   "outputs": [],
   "source": [
    "# using a try/except block\n",
    "try:\n",
    "    contact_information[\"height\"]\n",
    "except KeyError:\n",
    "    print(\"6ft\")"
   ]
  },
  {
   "cell_type": "code",
   "execution_count": null,
   "metadata": {},
   "outputs": [],
   "source": [
    "# using .get()\n",
    "result = contact_information.get(\"height\")\n",
    "print(\"Height of contact is\", result)"
   ]
  },
  {
   "cell_type": "code",
   "execution_count": null,
   "metadata": {},
   "outputs": [],
   "source": [
    "# falling back when there is no key\n",
    "result = contact_information.get(\"height\", \"5ft 9in.\")\n",
    "print(\"Height of contact is\", result)"
   ]
  },
  {
   "cell_type": "code",
   "execution_count": null,
   "metadata": {},
   "outputs": [],
   "source": [
    "contact_information[\"age\"] = 31\n",
    "print(\"Age is\", contact_information.pop(\"age\"))\n",
    "print(contact_information)"
   ]
  }
 ],
 "metadata": {
  "kernelspec": {
   "display_name": "Python 3.8.9 64-bit",
   "language": "python",
   "name": "python3"
  },
  "language_info": {
   "codemirror_mode": {
    "name": "ipython",
    "version": 3
   },
   "file_extension": ".py",
   "mimetype": "text/x-python",
   "name": "python",
   "nbconvert_exporter": "python",
   "pygments_lexer": "ipython3",
   "version": "3.8.9"
  },
  "orig_nbformat": 4,
  "vscode": {
   "interpreter": {
    "hash": "31f2aee4e71d21fbe5cf8b01ff0e069b9275f58929596ceb00d14d90e3e16cd6"
   }
  }
 },
 "nbformat": 4,
 "nbformat_minor": 2
}
