{
 "cells": [
  {
   "cell_type": "markdown",
   "metadata": {},
   "source": [
    "## Exceptions in Python\n",
    "When you encounter exceptions in Python you might be tempted to catch them to ignore. This is almost always not a sounds strategy. The rule of thumb is to catch exceptions that you are going to handle. If you can't handle an exception it is a better idea to let that exception get raised and break the program.\n",
    "\n",
    "This notebook will cover how to catch and handle exceptions."
   ]
  },
  {
   "cell_type": "markdown",
   "metadata": {},
   "source": [
    "### How Exceptions happen\n",
    "\n",
    "They are created with invalid operations that Python itself raises, or they are generated from your own code."
   ]
  },
  {
   "cell_type": "code",
   "execution_count": null,
   "metadata": {},
   "outputs": [],
   "source": [
    "# exception from Python itself\n",
    "14 / 0"
   ]
  },
  {
   "cell_type": "code",
   "execution_count": null,
   "metadata": {},
   "outputs": [],
   "source": [
    "# generating an exception with your own code\n",
    "raise RuntimeError(\"this is a problem!\")"
   ]
  },
  {
   "cell_type": "markdown",
   "metadata": {},
   "source": [
    "### Catching an Exception\n",
    "\n",
    "You'll need the `try` and `except` keywords to catch exceptions. Rule of thumb is to always catch the exception or the exceptions (plural!) that you need. Don't leave \"bare\" catching (shown later in this notebook)."
   ]
  },
  {
   "cell_type": "code",
   "execution_count": null,
   "metadata": {},
   "outputs": [],
   "source": [
    "try:\n",
    "    # some intense operation that causes an error\n",
    "    result = 14 / 0 \n",
    "except ZeroDivisionError:\n",
    "    # do some other intense operation\n",
    "    result = 14 / 2\n",
    "\n",
    "print(result)"
   ]
  },
  {
   "cell_type": "code",
   "execution_count": null,
   "metadata": {},
   "outputs": [],
   "source": [
    "# don't get tempted to catch all exceptions \n",
    "try:\n",
    "    # some intense operation that causes an error\n",
    "    result = 14 / 0\n",
    "    raise RuntimeError(\"error!\") \n",
    "except Exception:\n",
    "    # do some other intense operation\n",
    "    result = 14 / 2\n",
    "\n",
    "print(result)"
   ]
  },
  {
   "cell_type": "markdown",
   "metadata": {},
   "source": [
    "### Catching multiple Exceptions\n",
    "\n",
    "You can group many exceptions when catching them as well as doing an assignment if needed"
   ]
  },
  {
   "cell_type": "code",
   "execution_count": null,
   "metadata": {},
   "outputs": [],
   "source": [
    "try:\n",
    "    # some intense operation that causes an error\n",
    "    result = 14 / 2 \n",
    "    result + \"100\"\n",
    "except ZeroDivisionError:\n",
    "    # do some other intense operation\n",
    "    result = 14 / 2\n",
    "\n",
    "print(result)"
   ]
  },
  {
   "cell_type": "code",
   "execution_count": 15,
   "metadata": {},
   "outputs": [
    {
     "name": "stdout",
     "output_type": "stream",
     "text": [
      "got an error --> division by zero\n",
      "7.0\n"
     ]
    }
   ],
   "source": [
    "# assign the resulting exception to a variable\n",
    "try:\n",
    "    # some intense operation that causes an error\n",
    "    result = 14 / 0 \n",
    "except ZeroDivisionError as error:\n",
    "    # do some other intense operation\n",
    "    print(f\"got an error --> {error}\")\n",
    "    result = 14 / 2\n",
    "\n",
    "print(result)"
   ]
  }
 ],
 "metadata": {
  "kernelspec": {
   "display_name": "Python 3.8.9 64-bit",
   "language": "python",
   "name": "python3"
  },
  "language_info": {
   "codemirror_mode": {
    "name": "ipython",
    "version": 3
   },
   "file_extension": ".py",
   "mimetype": "text/x-python",
   "name": "python",
   "nbconvert_exporter": "python",
   "pygments_lexer": "ipython3",
   "version": "3.8.9"
  },
  "orig_nbformat": 4,
  "vscode": {
   "interpreter": {
    "hash": "31f2aee4e71d21fbe5cf8b01ff0e069b9275f58929596ceb00d14d90e3e16cd6"
   }
  }
 },
 "nbformat": 4,
 "nbformat_minor": 2
}
