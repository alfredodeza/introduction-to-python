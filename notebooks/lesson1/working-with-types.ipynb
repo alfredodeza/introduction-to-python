{
 "cells": [
  {
   "cell_type": "markdown",
   "metadata": {},
   "source": [
    "# Working with Types\n",
    "Python comes with different types that helps us deal with data. An integer for example will always be a whole number like `1`. If you need decimals, then you will have to use a different type like a float, for example: `1.74`. \n",
    "\n",
    "Different types have different attributes and we will cover a few of those here, including strings, booleans, integers, floats, and `None`"
   ]
  },
  {
   "cell_type": "markdown",
   "metadata": {},
   "source": [
    "## Types\n",
    "\n",
    "Working with different types can get tricky. Finding what the type is for a variable, or ensuring you can mix certain types is a good idea."
   ]
  },
  {
   "cell_type": "markdown",
   "metadata": {},
   "source": [
    "### Strings\n",
    "\n",
    "One of the most common types in Python is strings. Think of strings as text representation in a programming language. Strings have some properties that are worth highlighting"
   ]
  },
  {
   "cell_type": "code",
   "execution_count": null,
   "metadata": {},
   "outputs": [],
   "source": [
    "# strings can be assigned with single, double, and triple quotes\n",
    "full_name = 'Alfredo Deza'"
   ]
  },
  {
   "cell_type": "code",
   "execution_count": null,
   "metadata": {},
   "outputs": [],
   "source": [
    "full_name = \"Alfredo Deza\""
   ]
  },
  {
   "cell_type": "code",
   "execution_count": null,
   "metadata": {},
   "outputs": [],
   "source": [
    "full_name = \"\"\"Alfredo Deza\"\"\""
   ]
  },
  {
   "cell_type": "code",
   "execution_count": null,
   "metadata": {},
   "outputs": [],
   "source": [
    "# Triple quotes are useful when having quotes within a string\n",
    "summary = \"\"\"Triple quotes are useful when you have a ' or a \" within a string\"\"\"\n",
    "print(summary)"
   ]
  },
  {
   "cell_type": "code",
   "execution_count": null,
   "metadata": {},
   "outputs": [],
   "source": [
    "# Use single quotes when you have double quotes in a string\n",
    "summary = 'Use single quotes when there is a \" in your string'\n",
    "print(summary)\n",
    "print(\"And use double quotes when you have a ' in your string\")"
   ]
  },
  {
   "cell_type": "code",
   "execution_count": null,
   "metadata": {},
   "outputs": [],
   "source": [
    "# string support adding to other strings to compose text\n",
    "name = \"Alfredo\"\n",
    "result = \"this lesson is brought to you by \" + name\n",
    "print(result)"
   ]
  },
  {
   "cell_type": "code",
   "execution_count": null,
   "metadata": {},
   "outputs": [],
   "source": [
    "# use f-strings to replace variables in a string\n",
    "result = f\"{name} is teaching f-strings!\"\n",
    "print(result)"
   ]
  },
  {
   "cell_type": "markdown",
   "metadata": {},
   "source": [
    "### Integers\n",
    "\n",
    "Integers are represented in Python as `int`. They are _always_ whole numbers and support numerical representation."
   ]
  },
  {
   "cell_type": "code",
   "execution_count": null,
   "metadata": {},
   "outputs": [],
   "source": [
    "# use type() to discover what the type is if you don't know it\n",
    "type(15)"
   ]
  },
  {
   "cell_type": "code",
   "execution_count": null,
   "metadata": {},
   "outputs": [],
   "source": [
    "# integers support mathematical operations\n",
    "14 / 2"
   ]
  },
  {
   "cell_type": "code",
   "execution_count": null,
   "metadata": {},
   "outputs": [],
   "source": [
    "# watchout for invalid mathematical operations\n",
    "7 / 0"
   ]
  },
  {
   "cell_type": "code",
   "execution_count": null,
   "metadata": {},
   "outputs": [],
   "source": [
    "# as with all other types, watch out when mixing unsupported types\n",
    "7 + \"14\""
   ]
  },
  {
   "cell_type": "code",
   "execution_count": null,
   "metadata": {},
   "outputs": [],
   "source": [
    "# types can change depending on operations\n",
    "result = 3 / 2\n",
    "print(result)\n",
    "type(result)"
   ]
  },
  {
   "cell_type": "markdown",
   "metadata": {},
   "source": [
    "### Floats\n",
    "\n",
    "Floats are similar to integers and are represented in Python as `float`. They support mathematical operations as well."
   ]
  },
  {
   "cell_type": "code",
   "execution_count": null,
   "metadata": {},
   "outputs": [],
   "source": [
    "type(14.3)"
   ]
  },
  {
   "cell_type": "code",
   "execution_count": null,
   "metadata": {},
   "outputs": [],
   "source": [
    "311 / 99"
   ]
  },
  {
   "cell_type": "markdown",
   "metadata": {},
   "source": [
    "### Booleans\n",
    "\n",
    "Booleans (type `bool`) are represented natively in Python by `True` and `False`. Be aware that other types can represent true or false (often named _truthy_ values) like 1 and 0. This is especially critical to grasp when working with conditionals"
   ]
  },
  {
   "cell_type": "code",
   "execution_count": null,
   "metadata": {},
   "outputs": [],
   "source": [
    "type(True)"
   ]
  },
  {
   "cell_type": "code",
   "execution_count": null,
   "metadata": {},
   "outputs": [],
   "source": [
    "# truthy values can be converted to booleans with the `bool()` built-in\n",
    "first_result = bool(1)\n",
    "second_result = bool(0)\n",
    "print(first_result)\n",
    "print(second_result)"
   ]
  },
  {
   "cell_type": "markdown",
   "metadata": {},
   "source": [
    "### None\n",
    "`None` indicates a null value. Its type is `NoneType` and you might encounter it when running functions that don't return anything. However, you can still assign a `None` to variables."
   ]
  },
  {
   "cell_type": "code",
   "execution_count": null,
   "metadata": {},
   "outputs": [],
   "source": [
    "type(None)"
   ]
  }
 ],
 "metadata": {
  "kernelspec": {
   "display_name": "Python 3.8.9 64-bit",
   "language": "python",
   "name": "python3"
  },
  "language_info": {
   "codemirror_mode": {
    "name": "ipython",
    "version": 3
   },
   "file_extension": ".py",
   "mimetype": "text/x-python",
   "name": "python",
   "nbconvert_exporter": "python",
   "pygments_lexer": "ipython3",
   "version": "3.8.9"
  },
  "orig_nbformat": 4,
  "vscode": {
   "interpreter": {
    "hash": "31f2aee4e71d21fbe5cf8b01ff0e069b9275f58929596ceb00d14d90e3e16cd6"
   }
  }
 },
 "nbformat": 4,
 "nbformat_minor": 2
}
